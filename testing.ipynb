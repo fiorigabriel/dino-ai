{
 "cells": [
  {
   "cell_type": "code",
   "execution_count": null,
   "metadata": {},
   "outputs": [],
   "source": [
    "from selenium import webdriver\n",
    "from selenium.webdriver.chrome.options import Options\n",
    "\n",
    "options = Options()\n",
    "options.add_argument(\"--mute-audio\")\n",
    "options.add_experimental_option(\"excludeSwitches\", [\"enable-automation\"])"
   ]
  },
  {
   "cell_type": "code",
   "execution_count": null,
   "metadata": {},
   "outputs": [],
   "source": [
    "# Open chrome with dino game\n",
    "driver = webdriver.Chrome(options=options)\n",
    "driver.set_window_size(1600, 900)\n",
    "\n",
    "driver.get('chrome://dino')\n"
   ]
  },
  {
   "cell_type": "code",
   "execution_count": null,
   "metadata": {},
   "outputs": [],
   "source": [
    "driver.close();"
   ]
  }
 ],
 "metadata": {
  "kernelspec": {
   "display_name": ".venv",
   "language": "python",
   "name": "python3"
  },
  "language_info": {
   "codemirror_mode": {
    "name": "ipython",
    "version": 3
   },
   "file_extension": ".py",
   "mimetype": "text/x-python",
   "name": "python",
   "nbconvert_exporter": "python",
   "pygments_lexer": "ipython3",
   "version": "3.9.13"
  },
  "orig_nbformat": 4,
  "vscode": {
   "interpreter": {
    "hash": "feb803e7f3d4c09a4ee4368b5c2fdf3b48af001cbe513dcda7f24da28d5b769e"
   }
  }
 },
 "nbformat": 4,
 "nbformat_minor": 2
}
