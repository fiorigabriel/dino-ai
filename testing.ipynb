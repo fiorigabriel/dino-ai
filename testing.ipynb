{
 "cells": [
  {
   "cell_type": "code",
   "execution_count": 1,
   "metadata": {},
   "outputs": [],
   "source": [
    "from selenium import webdriver\n",
    "from selenium.webdriver.chrome.options import Options\n",
    "from selenium.webdriver.common.by import By\n",
    "from selenium.webdriver.support.ui import WebDriverWait\n",
    "from selenium.webdriver.common.keys import Keys\n",
    "from selenium.webdriver.support import expected_conditions as EC\n",
    "from selenium.common.exceptions import WebDriverException\n",
    "\n",
    "options = Options()\n",
    "options.add_argument(\"--mute-audio\")\n",
    "options.add_experimental_option(\"excludeSwitches\", [\"enable-automation\"])"
   ]
  },
  {
   "cell_type": "code",
   "execution_count": 2,
   "metadata": {},
   "outputs": [],
   "source": [
    "# Open chrome with dino game\n",
    "driver = webdriver.Chrome(options=options)\n",
    "driver.set_window_size(1600, 900)\n",
    "\n",
    "# needs to be in try/except block otherwise it won't start the game\n",
    "try:\n",
    "  driver.get('chrome://dino')\n",
    "except WebDriverException:\n",
    "  pass\n",
    "\n",
    "# press space to jump\n",
    "driver.find_element(By.TAG_NAME, \"body\").send_keys(Keys.SPACE)\n"
   ]
  },
  {
   "cell_type": "code",
   "execution_count": 10,
   "metadata": {},
   "outputs": [],
   "source": [
    "teste = driver.execute_script(\"\"\"const getNextObstacle = () => {\n",
    "  const { obstacles } = Runner.instance_.horizon;\n",
    "\n",
    "  if (!obstacles.length) return null;\n",
    "\n",
    "  const obstacle = obstacles[0];\n",
    "\n",
    "  return {\n",
    "    gap: obstacle.gap || -1, // distance between the next object\n",
    "    size: obstacle.size || -1,\n",
    "    xPos: obstacle.xPos || -1,\n",
    "    yPos: obstacle.yPos || -1,\n",
    "    height: obstacle.typeConfig.height || -1,\n",
    "    width: obstacle.typeConfig.width || -1,\n",
    "  };\n",
    "};\n",
    "\n",
    "return getNextObstacle();\n",
    "\"\"\")"
   ]
  },
  {
   "cell_type": "code",
   "execution_count": 14,
   "metadata": {},
   "outputs": [
    {
     "name": "stdout",
     "output_type": "stream",
     "text": [
      "292\n"
     ]
    }
   ],
   "source": [
    "print(teste['gap'])"
   ]
  },
  {
   "cell_type": "code",
   "execution_count": null,
   "metadata": {},
   "outputs": [],
   "source": [
    "driver.close();"
   ]
  }
 ],
 "metadata": {
  "kernelspec": {
   "display_name": ".venv",
   "language": "python",
   "name": "python3"
  },
  "language_info": {
   "codemirror_mode": {
    "name": "ipython",
    "version": 3
   },
   "file_extension": ".py",
   "mimetype": "text/x-python",
   "name": "python",
   "nbconvert_exporter": "python",
   "pygments_lexer": "ipython3",
   "version": "3.9.13"
  },
  "orig_nbformat": 4,
  "vscode": {
   "interpreter": {
    "hash": "feb803e7f3d4c09a4ee4368b5c2fdf3b48af001cbe513dcda7f24da28d5b769e"
   }
  }
 },
 "nbformat": 4,
 "nbformat_minor": 2
}
